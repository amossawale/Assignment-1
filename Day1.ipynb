{
  "nbformat": 4,
  "nbformat_minor": 0,
  "metadata": {
    "colab": {
      "name": "Day1.ipynb",
      "provenance": [],
      "collapsed_sections": [],
      "authorship_tag": "ABX9TyMcV8H36aakI2ug7afZOQqf",
      "include_colab_link": true
    },
    "kernelspec": {
      "name": "python3",
      "display_name": "Python 3"
    },
    "language_info": {
      "name": "python"
    }
  },
  "cells": [
    {
      "cell_type": "markdown",
      "metadata": {
        "id": "view-in-github",
        "colab_type": "text"
      },
      "source": [
        "<a href=\"https://colab.research.google.com/github/amossawale/Assignment-1/blob/main/Day1.ipynb\" target=\"_parent\"><img src=\"https://colab.research.google.com/assets/colab-badge.svg\" alt=\"Open In Colab\"/></a>"
      ]
    },
    {
      "cell_type": "code",
      "metadata": {
        "colab": {
          "base_uri": "https://localhost:8080/"
        },
        "id": "ZtGyhP1GJNH0",
        "outputId": "0bd67548-2902-4b6d-da57-d6468bdbac9d"
      },
      "source": [
        "print('Welcome')"
      ],
      "execution_count": null,
      "outputs": [
        {
          "output_type": "stream",
          "text": [
            "Welcome\n"
          ],
          "name": "stdout"
        }
      ]
    },
    {
      "cell_type": "code",
      "metadata": {
        "colab": {
          "base_uri": "https://localhost:8080/"
        },
        "id": "-WdTfaF4JdM2",
        "outputId": "c1fb1c65-584f-469f-a4eb-57e94b59e603"
      },
      "source": [
        "a=20\n",
        "#Dynamically typed language\n",
        "print(a)\n",
        "print('a')"
      ],
      "execution_count": null,
      "outputs": [
        {
          "output_type": "stream",
          "text": [
            "20\n",
            "a\n"
          ],
          "name": "stdout"
        }
      ]
    },
    {
      "cell_type": "code",
      "metadata": {
        "colab": {
          "base_uri": "https://localhost:8080/"
        },
        "id": "-4fKuEplKRxj",
        "outputId": "fbe5d014-9a9f-4b2d-fa68-6c019d4fc4cd"
      },
      "source": [
        "x=22\n",
        "print(type(x))\n",
        "\n",
        "x=0.2364\n",
        "print(type(x))\n",
        "\n",
        "x='amos'\n",
        "print(type(x))"
      ],
      "execution_count": null,
      "outputs": [
        {
          "output_type": "stream",
          "text": [
            "<class 'int'>\n",
            "<class 'float'>\n",
            "<class 'str'>\n"
          ],
          "name": "stdout"
        }
      ]
    },
    {
      "cell_type": "code",
      "metadata": {
        "colab": {
          "base_uri": "https://localhost:8080/"
        },
        "id": "HJhgcZdUKs3i",
        "outputId": "11b444fa-e75d-4292-cbc1-39b104bb1c7f"
      },
      "source": [
        "a='$$'\n",
        "b=\"&&\"\n",
        "c=\"\"\"\"amos\"\"\"\n",
        "d='''hello'''\n",
        "print(type(a))\n",
        "print(type(b))\n",
        "print(type(c))\n",
        "print(type(d))"
      ],
      "execution_count": null,
      "outputs": [
        {
          "output_type": "stream",
          "text": [
            "<class 'str'>\n",
            "<class 'str'>\n",
            "<class 'str'>\n",
            "<class 'str'>\n"
          ],
          "name": "stdout"
        }
      ]
    },
    {
      "cell_type": "code",
      "metadata": {
        "colab": {
          "base_uri": "https://localhost:8080/"
        },
        "id": "6EweZ0QeL9aR",
        "outputId": "da6a4ea2-d8fa-4d80-9480-bc2356b12d3b"
      },
      "source": [
        "# this is a single line commemt\n",
        "print('amos\\'s goggle is cool')"
      ],
      "execution_count": null,
      "outputs": [
        {
          "output_type": "stream",
          "text": [
            "amos's goggle is cool\n"
          ],
          "name": "stdout"
        }
      ]
    },
    {
      "cell_type": "code",
      "metadata": {
        "colab": {
          "base_uri": "https://localhost:8080/"
        },
        "id": "zS0mvp12NrCU",
        "outputId": "670cd6ca-0da7-4f80-ef7c-d78084c30375"
      },
      "source": [
        "a=10\n",
        "b=100\n",
        "print(id(a))\n",
        "print(id(b))"
      ],
      "execution_count": null,
      "outputs": [
        {
          "output_type": "stream",
          "text": [
            "94337479080736\n",
            "94337479083616\n"
          ],
          "name": "stdout"
        }
      ]
    },
    {
      "cell_type": "code",
      "metadata": {
        "colab": {
          "base_uri": "https://localhost:8080/"
        },
        "id": "TRwFSnQVOusb",
        "outputId": "faaa72d0-bb80-4057-d608-c9076a72a317"
      },
      "source": [
        "a=b=c=d=e=58\n",
        "print(a)\n",
        "print(b)\n",
        "print(c)\n",
        "print(d)\n",
        "print(e)"
      ],
      "execution_count": null,
      "outputs": [
        {
          "output_type": "stream",
          "text": [
            "58\n",
            "58\n",
            "58\n",
            "58\n",
            "58\n"
          ],
          "name": "stdout"
        }
      ]
    },
    {
      "cell_type": "code",
      "metadata": {
        "colab": {
          "base_uri": "https://localhost:8080/"
        },
        "id": "BkNFIyt9PLBx",
        "outputId": "9b367c3f-2051-489f-f577-a7f2e952f810"
      },
      "source": [
        "a=b=c=d=e=58\n",
        "print(a, end = ' ')\n",
        "print(b, end = ' ')\n",
        "print(c, end = ' ')\n",
        "print(d, end = ' ')\n",
        "print(e)\n",
        "print(a,b,c,d,e)"
      ],
      "execution_count": null,
      "outputs": [
        {
          "output_type": "stream",
          "text": [
            "58 58 58 58 58\n",
            "58 58 58 58 58\n"
          ],
          "name": "stdout"
        }
      ]
    },
    {
      "cell_type": "code",
      "metadata": {
        "colab": {
          "base_uri": "https://localhost:8080/"
        },
        "id": "46FSf7HSPcCi",
        "outputId": "e475725c-942f-47c0-ae5a-1f5e2c423102"
      },
      "source": [
        "a,b,c=15,25,22\n",
        "print(a,b,c)"
      ],
      "execution_count": null,
      "outputs": [
        {
          "output_type": "stream",
          "text": [
            "15 25 22\n"
          ],
          "name": "stdout"
        }
      ]
    },
    {
      "cell_type": "code",
      "metadata": {
        "colab": {
          "base_uri": "https://localhost:8080/"
        },
        "id": "Pcmv6HlAQbBT",
        "outputId": "22a0016e-bbfa-4d24-bf09-47f3457689e4"
      },
      "source": [
        "#input\n",
        "#adding two values\n",
        "\n",
        "a=input('Enter first value') #it takes string input\n",
        "b=input('Enter second value')\n",
        "print(a+b)"
      ],
      "execution_count": null,
      "outputs": [
        {
          "output_type": "stream",
          "text": [
            "Enter first value25\n",
            "Enter second value36\n",
            "2536\n"
          ],
          "name": "stdout"
        }
      ]
    },
    {
      "cell_type": "code",
      "metadata": {
        "colab": {
          "base_uri": "https://localhost:8080/"
        },
        "id": "gE8-3zbqR8NL",
        "outputId": "a4a3ea58-cc19-4fe3-d877-d9e096d06b24"
      },
      "source": [
        "a=int(input('Enter first value: ')) #it takes string input\n",
        "b=int(input('Enter second value: '))\n",
        "res=a+b\n",
        "print(a+b)\n",
        "print('sum:',a+b)\n",
        "print(f'sum: {res}')"
      ],
      "execution_count": null,
      "outputs": [
        {
          "output_type": "stream",
          "text": [
            "Enter first value: 222\n",
            "Enter second value: 222\n",
            "444\n",
            "sum: 444\n",
            "sum: 444\n"
          ],
          "name": "stdout"
        }
      ]
    },
    {
      "cell_type": "code",
      "metadata": {
        "colab": {
          "base_uri": "https://localhost:8080/"
        },
        "id": "jOVsd7qpSz1a",
        "outputId": "ee1ec137-7eaf-48be-ecb8-bb91edf4a9bc"
      },
      "source": [
        "a=b=c=22\n",
        "print(id(a),id(b),id(c))\n",
        "b=23\n",
        "print(id(a),id(b),id(c))\n",
        "print(a,b,c)"
      ],
      "execution_count": null,
      "outputs": [
        {
          "output_type": "stream",
          "text": [
            "94337479081120 94337479081120 94337479081120\n",
            "94337479081120 94337479081152 94337479081120\n",
            "22 23 22\n"
          ],
          "name": "stdout"
        }
      ]
    },
    {
      "cell_type": "code",
      "metadata": {
        "colab": {
          "base_uri": "https://localhost:8080/"
        },
        "id": "r22fELH4XV9M",
        "outputId": "03e8a308-47dd-4f17-f8e2-5631edfe2db2"
      },
      "source": [
        "li=[5,6,5,6,3,2,2]\n",
        "print(type(li))"
      ],
      "execution_count": null,
      "outputs": [
        {
          "output_type": "stream",
          "text": [
            "<class 'list'>\n"
          ],
          "name": "stdout"
        }
      ]
    },
    {
      "cell_type": "code",
      "metadata": {
        "colab": {
          "base_uri": "https://localhost:8080/"
        },
        "id": "iZutL-DhZjjk",
        "outputId": "c27dcc7c-9120-408b-d80e-8e6f36a79cd0"
      },
      "source": [
        "li=[5,5.3,'hey']\n",
        "print(type(li))\n",
        "print(li[0])\n",
        "print(li[2])"
      ],
      "execution_count": null,
      "outputs": [
        {
          "output_type": "stream",
          "text": [
            "<class 'list'>\n",
            "5\n",
            "hey\n"
          ],
          "name": "stdout"
        }
      ]
    },
    {
      "cell_type": "code",
      "metadata": {
        "colab": {
          "base_uri": "https://localhost:8080/"
        },
        "id": "6CmiR8R_Zt1S",
        "outputId": "f94f4933-c63b-42b5-f378-4da6336b4c9b"
      },
      "source": [
        "li=[2,3,6,5,8,9,7,5,100]\n",
        "print(2 in li)\n",
        "print(200 in li)\n",
        "print(2,1 in li)\n",
        "print(li*2)"
      ],
      "execution_count": null,
      "outputs": [
        {
          "output_type": "stream",
          "text": [
            "True\n",
            "False\n",
            "2 False\n",
            "[2, 3, 6, 5, 8, 9, 7, 5, 100, 2, 3, 6, 5, 8, 9, 7, 5, 100]\n"
          ],
          "name": "stdout"
        }
      ]
    },
    {
      "cell_type": "code",
      "metadata": {
        "colab": {
          "base_uri": "https://localhost:8080/"
        },
        "id": "oDF_CGdsa3nq",
        "outputId": "47a96927-28ae-4df0-ef60-41ea37056c5d"
      },
      "source": [
        " li1= [1,4,7,2,5,8,9]\n",
        " li2= [3,6,5,4,77,55,66]\n",
        " print(li1+li2)"
      ],
      "execution_count": null,
      "outputs": [
        {
          "output_type": "stream",
          "text": [
            "[1, 4, 7, 2, 5, 8, 9, 3, 6, 5, 4, 77, 55, 66]\n"
          ],
          "name": "stdout"
        }
      ]
    },
    {
      "cell_type": "code",
      "metadata": {
        "colab": {
          "base_uri": "https://localhost:8080/"
        },
        "id": "dQ1JL9akcON8",
        "outputId": "84e752af-aead-4668-f7a1-894281c59057"
      },
      "source": [
        "li2= [3,6,5,4,77,55,66]\n",
        "for i in li2:\n",
        "  print(i)"
      ],
      "execution_count": null,
      "outputs": [
        {
          "output_type": "stream",
          "text": [
            "3\n",
            "6\n",
            "5\n",
            "4\n",
            "77\n",
            "55\n",
            "66\n"
          ],
          "name": "stdout"
        }
      ]
    },
    {
      "cell_type": "code",
      "metadata": {
        "colab": {
          "base_uri": "https://localhost:8080/"
        },
        "id": "T6IH8dkBcrz2",
        "outputId": "5a6c1d0e-4cbe-49a7-cb45-d23e89bff0c9"
      },
      "source": [
        "#list is mutable\n",
        "\n",
        "li2= [3,6,5,4,77,55,66]\n",
        "print(li2)\n",
        "li2[1]=8\n",
        "print(li2)"
      ],
      "execution_count": null,
      "outputs": [
        {
          "output_type": "stream",
          "text": [
            "[3, 6, 5, 4, 77, 55, 66]\n",
            "[3, 8, 5, 4, 77, 55, 66]\n"
          ],
          "name": "stdout"
        }
      ]
    },
    {
      "cell_type": "code",
      "metadata": {
        "colab": {
          "base_uri": "https://localhost:8080/",
          "height": 231
        },
        "id": "-OhJBWkadTpr",
        "outputId": "ab771d55-32e0-4577-89ee-4212a32d0cc0"
      },
      "source": [
        "s='hello'\n",
        "print(s)\n",
        "s[4]=w \n",
        "print(s)"
      ],
      "execution_count": null,
      "outputs": [
        {
          "output_type": "stream",
          "text": [
            "hello\n"
          ],
          "name": "stdout"
        },
        {
          "output_type": "error",
          "ename": "NameError",
          "evalue": "ignored",
          "traceback": [
            "\u001b[0;31m---------------------------------------------------------------------------\u001b[0m",
            "\u001b[0;31mNameError\u001b[0m                                 Traceback (most recent call last)",
            "\u001b[0;32m<ipython-input-49-9ccec1401df7>\u001b[0m in \u001b[0;36m<module>\u001b[0;34m()\u001b[0m\n\u001b[1;32m      1\u001b[0m \u001b[0ms\u001b[0m\u001b[0;34m=\u001b[0m\u001b[0;34m'hello'\u001b[0m\u001b[0;34m\u001b[0m\u001b[0;34m\u001b[0m\u001b[0m\n\u001b[1;32m      2\u001b[0m \u001b[0mprint\u001b[0m\u001b[0;34m(\u001b[0m\u001b[0ms\u001b[0m\u001b[0;34m)\u001b[0m\u001b[0;34m\u001b[0m\u001b[0;34m\u001b[0m\u001b[0m\n\u001b[0;32m----> 3\u001b[0;31m \u001b[0ms\u001b[0m\u001b[0;34m[\u001b[0m\u001b[0;36m4\u001b[0m\u001b[0;34m]\u001b[0m\u001b[0;34m=\u001b[0m\u001b[0mw\u001b[0m\u001b[0;34m\u001b[0m\u001b[0;34m\u001b[0m\u001b[0m\n\u001b[0m\u001b[1;32m      4\u001b[0m \u001b[0mprint\u001b[0m\u001b[0;34m(\u001b[0m\u001b[0ms\u001b[0m\u001b[0;34m)\u001b[0m\u001b[0;34m\u001b[0m\u001b[0;34m\u001b[0m\u001b[0m\n",
            "\u001b[0;31mNameError\u001b[0m: name 'w' is not defined"
          ]
        }
      ]
    },
    {
      "cell_type": "code",
      "metadata": {
        "id": "EL19qHq5d6uD"
      },
      "source": [
        "#string is immutable"
      ],
      "execution_count": null,
      "outputs": []
    }
  ]
}